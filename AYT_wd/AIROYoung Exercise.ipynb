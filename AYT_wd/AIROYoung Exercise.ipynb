{
 "cells": [
  {
   "cell_type": "markdown",
   "metadata": {},
   "source": [
    "# AIROYoung Exercise Solved"
   ]
  },
  {
   "cell_type": "markdown",
   "metadata": {},
   "source": [
    "Let's use the classes we **exposed in C++**! Data input in complex application can be a real pain, but still our algorithms need much efficiency. We keep as many as possible components of our software outside the C++ nasty world, let's see **how easily Python can deal** with this tasks!"
   ]
  },
  {
   "cell_type": "code",
   "execution_count": null,
   "metadata": {},
   "outputs": [],
   "source": [
    "import networkx as nx\n",
    "from scipy.spatial.distance import cdist\n",
    "import numpy as np\n",
    "from itertools import product\n",
    "import matplotlib.pyplot as plt\n",
    "import codecs\n",
    "import datetime as dt\n",
    "from ast import literal_eval as make_tuple"
   ]
  },
  {
   "cell_type": "markdown",
   "metadata": {},
   "source": [
    "the following packages are the one we are going to use to read input data from different sources"
   ]
  },
  {
   "cell_type": "code",
   "execution_count": null,
   "metadata": {},
   "outputs": [],
   "source": [
    "import ConfigParser as cp\n",
    "import json\n",
    "import csv\n",
    "import xml.etree.ElementTree as xml\n",
    "import pandas as pd"
   ]
  },
  {
   "cell_type": "markdown",
   "metadata": {},
   "source": [
    "here we import our own files and packages"
   ]
  },
  {
   "cell_type": "code",
   "execution_count": null,
   "metadata": {},
   "outputs": [],
   "source": [
    "import Exercise_Solved.AYT_exercise as AYT\n",
    "import utils.misc as ut"
   ]
  },
  {
   "cell_type": "markdown",
   "metadata": {},
   "source": [
    "## CONFIG"
   ]
  },
  {
   "cell_type": "markdown",
   "metadata": {},
   "source": [
    "In a *config.ini* we find the date we are considering in our exercise"
   ]
  },
  {
   "cell_type": "code",
   "execution_count": null,
   "metadata": {},
   "outputs": [],
   "source": [
    "conf_parser = cp.RawConfigParser()"
   ]
  },
  {
   "cell_type": "markdown",
   "metadata": {
    "collapsed": true
   },
   "source": [
    "read the value the file and assign it to an object of type *AYT.date*"
   ]
  },
  {
   "cell_type": "code",
   "execution_count": null,
   "metadata": {},
   "outputs": [],
   "source": [
    "#read the date"
   ]
  },
  {
   "cell_type": "code",
   "execution_count": null,
   "metadata": {},
   "outputs": [],
   "source": [
    "print date, type(date)"
   ]
  },
  {
   "cell_type": "markdown",
   "metadata": {},
   "source": [
    "## XML"
   ]
  },
  {
   "cell_type": "markdown",
   "metadata": {},
   "source": [
    "We want to create a list of recipes, the ingredients are contained in an xml file"
   ]
  },
  {
   "cell_type": "code",
   "execution_count": null,
   "metadata": {},
   "outputs": [],
   "source": [
    "recipes = []"
   ]
  },
  {
   "cell_type": "code",
   "execution_count": null,
   "metadata": {},
   "outputs": [],
   "source": [
    "xml_tree = xml.parse('Exercise_Solved/data/ingredients.xml').getroot()\n",
    "input_recipes = xml_tree.findall('recipe')"
   ]
  },
  {
   "cell_type": "markdown",
   "metadata": {},
   "source": [
    "make use of the following dictionaries to get the AYT enum value from the string read in the xml file"
   ]
  },
  {
   "cell_type": "code",
   "execution_count": null,
   "metadata": {},
   "outputs": [],
   "source": [
    "cook_type_dict = {'oven' : AYT.CookingType.Oven, 'pot' : AYT.CookingType.Pot, 'pan' : AYT.CookingType.Pan}\n",
    "conserv_dict = {'anywhere' : AYT.Conservation.Anywhere, 'fridge' : AYT.Conservation.Fridge, 'refrigerator' : AYT.Conservation.Refrigerator}"
   ]
  },
  {
   "cell_type": "markdown",
   "metadata": {},
   "source": [
    "use an utility function available to read the ingredients of the recipe"
   ]
  },
  {
   "cell_type": "code",
   "execution_count": null,
   "metadata": {},
   "outputs": [],
   "source": [
    "for recipe in input_recipes:\n",
    "    r = AYT.Recipe(recipe.get('name'))\n",
    "    #read the ingredients\n",
    "    recipes.append(r)"
   ]
  },
  {
   "cell_type": "code",
   "execution_count": null,
   "metadata": {},
   "outputs": [],
   "source": [
    "for r in recipes:\n",
    "    print r"
   ]
  },
  {
   "cell_type": "markdown",
   "metadata": {},
   "source": [
    "check how many common ingredients there are between the first two recipes"
   ]
  },
  {
   "cell_type": "code",
   "execution_count": null,
   "metadata": {},
   "outputs": [],
   "source": [
    "#todo"
   ]
  },
  {
   "cell_type": "markdown",
   "metadata": {},
   "source": [
    "does the first recipe takes longer to cook than the second one?"
   ]
  },
  {
   "cell_type": "code",
   "execution_count": null,
   "metadata": {},
   "outputs": [],
   "source": [
    "#todo"
   ]
  },
  {
   "cell_type": "markdown",
   "metadata": {},
   "source": [
    "## XLS"
   ]
  },
  {
   "cell_type": "markdown",
   "metadata": {},
   "source": [
    "In an Excel file we can find all data corresponding to the employees (cooks and waiters)"
   ]
  },
  {
   "cell_type": "code",
   "execution_count": null,
   "metadata": {},
   "outputs": [],
   "source": [
    "cooks, waiters, employees = [], [], []"
   ]
  },
  {
   "cell_type": "markdown",
   "metadata": {},
   "source": [
    "read the employee file Excel with Pandas functions"
   ]
  },
  {
   "cell_type": "code",
   "execution_count": null,
   "metadata": {},
   "outputs": [],
   "source": [
    "#read xls with pandas"
   ]
  },
  {
   "cell_type": "code",
   "execution_count": null,
   "metadata": {},
   "outputs": [],
   "source": [
    "df_empl"
   ]
  },
  {
   "cell_type": "code",
   "execution_count": null,
   "metadata": {},
   "outputs": [],
   "source": [
    "df_empl.dropna(inplace=True)"
   ]
  },
  {
   "cell_type": "markdown",
   "metadata": {},
   "source": [
    "create employees by iterating on dataframe rows"
   ]
  },
  {
   "cell_type": "code",
   "execution_count": null,
   "metadata": {},
   "outputs": [],
   "source": [
    "for idx, data in df_empl.iterrows():\n",
    "    #create cooks and waiters"
   ]
  },
  {
   "cell_type": "code",
   "execution_count": null,
   "metadata": {},
   "outputs": [],
   "source": [
    "employess = cooks + waiters"
   ]
  },
  {
   "cell_type": "code",
   "execution_count": null,
   "metadata": {},
   "outputs": [],
   "source": [
    "for e in employees:\n",
    "    print 'My name is {}, and {}. today I work {} hours'.format(e.name, e.whatDoIDo(), e.time_per_day)"
   ]
  },
  {
   "cell_type": "markdown",
   "metadata": {},
   "source": [
    "## CSV"
   ]
  },
  {
   "cell_type": "markdown",
   "metadata": {},
   "source": [
    "now we want to assign to each cook the recipes he knows. They are stored in a csv file"
   ]
  },
  {
   "cell_type": "code",
   "execution_count": null,
   "metadata": {},
   "outputs": [],
   "source": [
    "recipes_cooks = []"
   ]
  },
  {
   "cell_type": "markdown",
   "metadata": {},
   "source": [
    "read data with csv package"
   ]
  },
  {
   "cell_type": "code",
   "execution_count": null,
   "metadata": {},
   "outputs": [],
   "source": [
    "with #open(filename, 'rb') as f:\n",
    "    reader = csv.reader(f)\n",
    "    #iterate through rows and append rows to recipes_cooks"
   ]
  },
  {
   "cell_type": "markdown",
   "metadata": {},
   "source": [
    "*Hint*: you might have encoding issues...try `codecs.open(filename, 'rb', 'utf-16')` and you're good to go!"
   ]
  },
  {
   "cell_type": "code",
   "execution_count": null,
   "metadata": {},
   "outputs": [],
   "source": [
    "print recipes_cooks"
   ]
  },
  {
   "cell_type": "markdown",
   "metadata": {},
   "source": [
    "read the same csv file with pandas and make *Cook* as the index column"
   ]
  },
  {
   "cell_type": "code",
   "execution_count": null,
   "metadata": {},
   "outputs": [],
   "source": [
    "recipes_cooks = pd.read_csv(codecs.open('Exercise_Solved/data/recipes_of_cooks.csv', 'rb', 'utf-16'), index_col=['Cook'])"
   ]
  },
  {
   "cell_type": "code",
   "execution_count": null,
   "metadata": {},
   "outputs": [],
   "source": [
    "recipes_cooks"
   ]
  },
  {
   "cell_type": "markdown",
   "metadata": {},
   "source": [
    "compute for each cook how many recipes he/she knows (use apply function of dataframe)"
   ]
  },
  {
   "cell_type": "code",
   "execution_count": null,
   "metadata": {},
   "outputs": [],
   "source": [
    "#todo"
   ]
  },
  {
   "cell_type": "markdown",
   "metadata": {},
   "source": [
    "compute for each recipe how many cooks know it (use apply function of dataframe)"
   ]
  },
  {
   "cell_type": "code",
   "execution_count": null,
   "metadata": {},
   "outputs": [],
   "source": [
    "#todo"
   ]
  },
  {
   "cell_type": "markdown",
   "metadata": {},
   "source": [
    "assign to each cook in employees the recipes he knows (use *next* to search by condition). `'recipe_{}'.format()` can be useful to find the recipe by its name"
   ]
  },
  {
   "cell_type": "code",
   "execution_count": null,
   "metadata": {},
   "outputs": [],
   "source": [
    "for name, recipes_data in recipes_cooks.iterrows():\n",
    "    cook = #todo\n",
    "    known_recipes = recipes_data.tolist()\n",
    "    for i in range(len(known_recipes)):\n",
    "        if known_recipes[i] == 1:\n",
    "            r = #todo\n",
    "            cook.known_recipes.append(r)"
   ]
  },
  {
   "cell_type": "markdown",
   "metadata": {},
   "source": [
    "create the list of *cooks* by removing the waiters from the employees"
   ]
  },
  {
   "cell_type": "code",
   "execution_count": null,
   "metadata": {},
   "outputs": [],
   "source": [
    "cooks2 = #"
   ]
  },
  {
   "cell_type": "markdown",
   "metadata": {},
   "source": [
    "for the next task you may find useful *join()* and *map* python functions"
   ]
  },
  {
   "cell_type": "code",
   "execution_count": null,
   "metadata": {},
   "outputs": [],
   "source": [
    "for c in cooks2:\n",
    "    print '{} can cook: {}'.format(c.name, #string of comma-separated recipes known by c)"
   ]
  },
  {
   "cell_type": "markdown",
   "metadata": {},
   "source": [
    "## JSON"
   ]
  },
  {
   "cell_type": "markdown",
   "metadata": {},
   "source": [
    "We want to collect data about some restaurants in Padova area (the best I know!). They are stored in a json file. Besides the restaurants, we want to save also a list of coordinates for each restaurant that will represent a graph"
   ]
  },
  {
   "cell_type": "code",
   "execution_count": null,
   "metadata": {},
   "outputs": [],
   "source": [
    "restaurants = []\n",
    "graph = []"
   ]
  },
  {
   "cell_type": "code",
   "execution_count": null,
   "metadata": {},
   "outputs": [],
   "source": [
    "input_json = json.load(open('Exercise_Solved/data/restaurants.json'))"
   ]
  },
  {
   "cell_type": "markdown",
   "metadata": {},
   "source": [
    "create restaurants and coordinates, for the latter you may take advantage of the `make_tuple()` python function"
   ]
  },
  {
   "cell_type": "code",
   "execution_count": null,
   "metadata": {},
   "outputs": [],
   "source": [
    "for k, v in input_json['restaurants'].iteritems():\n",
    "    #create the restaurant\n",
    "    restaurants.append(R)\n",
    "    #create the coord pair\n",
    "    graph.append(coord)"
   ]
  },
  {
   "cell_type": "code",
   "execution_count": null,
   "metadata": {},
   "outputs": [],
   "source": [
    "for R in restaurants:\n",
    "    print R.name"
   ]
  },
  {
   "cell_type": "markdown",
   "metadata": {},
   "source": [
    "Assign employees to restaurants and viceversa"
   ]
  },
  {
   "cell_type": "code",
   "execution_count": null,
   "metadata": {},
   "outputs": [],
   "source": [
    "for i in range(len(cooks)):\n",
    "    cooks[i].restaurant = restaurants[i]\n",
    "    waiters[i].restaurant = restaurants[i]\n",
    "    restaurants[i].employees.append(cooks[i])\n",
    "    restaurants[i].employees.append(waiters[i])"
   ]
  },
  {
   "cell_type": "code",
   "execution_count": null,
   "metadata": {},
   "outputs": [],
   "source": [
    "for i in range(len(cooks)):\n",
    "    print cooks[i].restaurant.name\n",
    "    print waiters[i].restaurant.name"
   ]
  },
  {
   "cell_type": "markdown",
   "metadata": {},
   "source": [
    "let's see our graph (it is a grid)"
   ]
  },
  {
   "cell_type": "code",
   "execution_count": null,
   "metadata": {},
   "outputs": [],
   "source": [
    "graph.sort()"
   ]
  },
  {
   "cell_type": "code",
   "execution_count": null,
   "metadata": {},
   "outputs": [],
   "source": [
    "graph"
   ]
  },
  {
   "cell_type": "markdown",
   "metadata": {},
   "source": [
    "## Customers"
   ]
  },
  {
   "cell_type": "markdown",
   "metadata": {},
   "source": [
    "Customers arrive according to a Poisson Process of rate 30. We consider the first 10 clients arriving from 12:00 at the first restaurant"
   ]
  },
  {
   "cell_type": "code",
   "execution_count": null,
   "metadata": {},
   "outputs": [],
   "source": [
    "arrival_times = map( lambda x: AYT.time(date, AYT.time_duration(12,x,0)), np.cumsum(np.random.poisson(30, 10)))"
   ]
  },
  {
   "cell_type": "code",
   "execution_count": null,
   "metadata": {},
   "outputs": [],
   "source": [
    "for a in arrival_times:\n",
    "    print a"
   ]
  },
  {
   "cell_type": "markdown",
   "metadata": {},
   "source": [
    "create the last customer arriving at the restaurant, let's say he wants to eat the first recipe "
   ]
  },
  {
   "cell_type": "code",
   "execution_count": null,
   "metadata": {},
   "outputs": [],
   "source": [
    "c = #last customer"
   ]
  },
  {
   "cell_type": "markdown",
   "metadata": {},
   "source": [
    "check if there is at least one cook at the restaurant when the customer gets in that can cook that recipe"
   ]
  },
  {
   "cell_type": "code",
   "execution_count": null,
   "metadata": {},
   "outputs": [],
   "source": [
    "cooks_first_restaurants = [ck for ck in cooks if ck.restaurant.name == restaurants[0].name]\n",
    "cooks_available = [ck for ck in cooks_first_restaurants if restaurants[0].opening_period.begin() + ck.time_per_day > c.arrival_time]"
   ]
  },
  {
   "cell_type": "code",
   "execution_count": null,
   "metadata": {},
   "outputs": [],
   "source": [
    "cooks_for_recipe = #find all cooks who can cook the desired recipe"
   ]
  },
  {
   "cell_type": "code",
   "execution_count": null,
   "metadata": {},
   "outputs": [],
   "source": [
    "for ck in cooks_for_recipe:\n",
    "    print 'customer arrives at {}. He wants {}. Cook {} can cook {}'.format(c.arrival_time.timeOfDay(),\n",
    "                                                                           c.desired_meal,\n",
    "                                                                           ck.name,\n",
    "                                                                           ','.join(map(str,ck.known_recipes)))"
   ]
  },
  {
   "cell_type": "markdown",
   "metadata": {},
   "source": [
    "## TSP"
   ]
  },
  {
   "cell_type": "markdown",
   "metadata": {},
   "source": [
    "Anna is a very glutton girl, and wants to eat at every restaurant we have! Let's say they all keep open for Anna (or else she would freak out). Anna is also a very lazy girl, and she does not want to do much effort walking through the city, so let's suggest her a short tour by solving a **Traveling Salesman Problem** on our grid graph!"
   ]
  },
  {
   "cell_type": "markdown",
   "metadata": {},
   "source": [
    "cast the graph to a special Python type, optimized for matrix computations"
   ]
  },
  {
   "cell_type": "code",
   "execution_count": null,
   "metadata": {},
   "outputs": [],
   "source": [
    "grid = np.asarray(graph)"
   ]
  },
  {
   "cell_type": "markdown",
   "metadata": {},
   "source": [
    "some python magic for creating a distance matrix computed with *Manhattan distance*"
   ]
  },
  {
   "cell_type": "code",
   "execution_count": null,
   "metadata": {},
   "outputs": [],
   "source": [
    "M = np.asmatrix(cdist(grid,grid, 'cityblock'))"
   ]
  },
  {
   "cell_type": "code",
   "execution_count": null,
   "metadata": {},
   "outputs": [],
   "source": [
    "print M"
   ]
  },
  {
   "cell_type": "markdown",
   "metadata": {},
   "source": [
    "create an instance of our network class"
   ]
  },
  {
   "cell_type": "code",
   "execution_count": null,
   "metadata": {},
   "outputs": [],
   "source": [
    "network = AYT.Network(len(grid))"
   ]
  },
  {
   "cell_type": "code",
   "execution_count": null,
   "metadata": {},
   "outputs": [],
   "source": [
    "for i in range(len(network)):\n",
    "    #assign restaurants to nodes"
   ]
  },
  {
   "cell_type": "code",
   "execution_count": null,
   "metadata": {},
   "outputs": [],
   "source": [
    "for i,j in product(range(len(network)),range(len(network))):\n",
    "    if i != j:\n",
    "        #assign trips to arcs"
   ]
  },
  {
   "cell_type": "markdown",
   "metadata": {},
   "source": [
    "create an instance of *Networkx* graph class"
   ]
  },
  {
   "cell_type": "code",
   "execution_count": null,
   "metadata": {},
   "outputs": [],
   "source": [
    "G = nx.from_numpy_matrix(M)"
   ]
  },
  {
   "cell_type": "markdown",
   "metadata": {},
   "source": [
    "let's solve the problem with our C++ function!"
   ]
  },
  {
   "cell_type": "code",
   "execution_count": null,
   "metadata": {},
   "outputs": [],
   "source": [
    "route = AYT.TSP(network)"
   ]
  },
  {
   "cell_type": "code",
   "execution_count": null,
   "metadata": {},
   "outputs": [],
   "source": [
    "route"
   ]
  },
  {
   "cell_type": "markdown",
   "metadata": {},
   "source": [
    "compute the length of the path"
   ]
  },
  {
   "cell_type": "code",
   "execution_count": null,
   "metadata": {},
   "outputs": [],
   "source": [
    "sum(M[route[i],route[i+1]] for i in range(len(route)-1))"
   ]
  },
  {
   "cell_type": "markdown",
   "metadata": {},
   "source": [
    "build a list of the arcs of the route, that is each pair of consecutive nodes"
   ]
  },
  {
   "cell_type": "code",
   "execution_count": null,
   "metadata": {},
   "outputs": [],
   "source": [
    "route_edges = zip(route[:-1], route[1:])"
   ]
  },
  {
   "cell_type": "code",
   "execution_count": null,
   "metadata": {},
   "outputs": [],
   "source": [
    "route_edges"
   ]
  },
  {
   "cell_type": "markdown",
   "metadata": {},
   "source": [
    "finally, let's plot the solution found"
   ]
  },
  {
   "cell_type": "code",
   "execution_count": null,
   "metadata": {},
   "outputs": [],
   "source": [
    "pos = nx.circular_layout(G)  # positions for all nodes\n",
    "\n",
    "nx.draw(G, pos, node_color='orange', with_labels=True)\n",
    "\n",
    "nx.draw_networkx_edges(G, pos, edgelist=route_edges, width=6, alpha=0.5, edge_color='b')\n",
    "\n",
    "plt.show()"
   ]
  }
 ],
 "metadata": {
  "kernelspec": {
   "display_name": "Python 2",
   "language": "python",
   "name": "python2"
  },
  "language_info": {
   "codemirror_mode": {
    "name": "ipython",
    "version": 2
   },
   "file_extension": ".py",
   "mimetype": "text/x-python",
   "name": "python",
   "nbconvert_exporter": "python",
   "pygments_lexer": "ipython2",
   "version": "2.7.15"
  }
 },
 "nbformat": 4,
 "nbformat_minor": 2
}
