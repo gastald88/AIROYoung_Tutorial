{
 "cells": [
  {
   "cell_type": "markdown",
   "metadata": {},
   "source": [
    "# AIROYoung Exercise Solved"
   ]
  },
  {
   "cell_type": "markdown",
   "metadata": {},
   "source": [
    "Let's use the classes we **exposed in C++**! Data input in complex application can be a real pain, but still our algorithms need much efficiency. We keep as many as possible components of our software outside the C++ nasty world, let's see **how easily Python can deal** with this tasks!"
   ]
  },
  {
   "cell_type": "code",
   "execution_count": 2,
   "metadata": {},
   "outputs": [],
   "source": [
    "import networkx as nx\n",
    "from scipy.spatial.distance import cdist\n",
    "import numpy as np\n",
    "from itertools import product\n",
    "import matplotlib.pyplot as plt\n",
    "import codecs\n",
    "import datetime as dt\n",
    "from ast import literal_eval as make_tuple"
   ]
  },
  {
   "cell_type": "markdown",
   "metadata": {},
   "source": [
    "the following packages are the one we are going to use to read input data from different sources"
   ]
  },
  {
   "cell_type": "code",
   "execution_count": 3,
   "metadata": {},
   "outputs": [],
   "source": [
    "import ConfigParser as cp\n",
    "import json\n",
    "import csv\n",
    "import xml.etree.ElementTree as xml\n",
    "import pandas as pd"
   ]
  },
  {
   "cell_type": "markdown",
   "metadata": {},
   "source": [
    "here we import our own files and packages"
   ]
  },
  {
   "cell_type": "code",
   "execution_count": 4,
   "metadata": {},
   "outputs": [],
   "source": [
    "import Exercise_Solved.AYT_exercise as AYT\n",
    "import utils.misc as ut"
   ]
  },
  {
   "cell_type": "markdown",
   "metadata": {},
   "source": [
    "## CONFIG"
   ]
  },
  {
   "cell_type": "markdown",
   "metadata": {},
   "source": [
    "In a *config.ini* we find the date we are considering in our exercise"
   ]
  },
  {
   "cell_type": "code",
   "execution_count": 5,
   "metadata": {},
   "outputs": [],
   "source": [
    "conf_parser = cp.RawConfigParser()"
   ]
  },
  {
   "cell_type": "markdown",
   "metadata": {
    "collapsed": true
   },
   "source": [
    "read the value the file and assign it to an object of type *AYT.date*"
   ]
  },
  {
   "cell_type": "code",
   "execution_count": 6,
   "metadata": {},
   "outputs": [],
   "source": [
    "conf_parser.read('Exercise_Solved/data/config.ini');\n",
    "date = ut.stringToDate(conf_parser.get('initialize', 'date'))\n",
    "date = AYT.date(date.year, date.month, date.day)"
   ]
  },
  {
   "cell_type": "code",
   "execution_count": 7,
   "metadata": {},
   "outputs": [
    {
     "name": "stdout",
     "output_type": "stream",
     "text": [
      "2019-Mar-29 <class 'Exercise_Solved.AYT_exercise.date'>\n"
     ]
    }
   ],
   "source": [
    "print date, type(date)"
   ]
  },
  {
   "cell_type": "markdown",
   "metadata": {},
   "source": [
    "## XML"
   ]
  },
  {
   "cell_type": "markdown",
   "metadata": {},
   "source": [
    "We want to create a list of recipes, the ingredients are contained in an xml file"
   ]
  },
  {
   "cell_type": "code",
   "execution_count": 8,
   "metadata": {},
   "outputs": [],
   "source": [
    "recipes = []"
   ]
  },
  {
   "cell_type": "code",
   "execution_count": 9,
   "metadata": {},
   "outputs": [],
   "source": [
    "xml_tree = xml.parse('Exercise_Solved/data/ingredients.xml').getroot()\n",
    "input_recipes = xml_tree.findall('recipe')"
   ]
  },
  {
   "cell_type": "markdown",
   "metadata": {},
   "source": [
    "make use of the following dictionaries to get the AYT enum value from the string read in the xml file"
   ]
  },
  {
   "cell_type": "code",
   "execution_count": 10,
   "metadata": {},
   "outputs": [],
   "source": [
    "cook_type_dict = {'oven' : AYT.CookingType.Oven, 'pot' : AYT.CookingType.Pot, 'pan' : AYT.CookingType.Pan}\n",
    "conserv_dict = {'anywhere' : AYT.Conservation.Anywhere, 'fridge' : AYT.Conservation.Fridge, 'refrigerator' : AYT.Conservation.Refrigerator}"
   ]
  },
  {
   "cell_type": "markdown",
   "metadata": {},
   "source": [
    "use an utility function available to read the ingredients of the recipe"
   ]
  },
  {
   "cell_type": "code",
   "execution_count": 11,
   "metadata": {},
   "outputs": [],
   "source": [
    "for recipe in input_recipes:\n",
    "    r = AYT.Recipe(recipe.get('name'))\n",
    "    r.cooking = cook_type_dict[ut.getXMLelem(recipe, 'cooking_type')]\n",
    "    r.butter_g = float(ut.getXMLelem(recipe, 'butter'))\n",
    "    r.chocolate_g = float(ut.getXMLelem(recipe, 'chocolate'))\n",
    "    r.conservation = conserv_dict[ut.getXMLelem(recipe, 'conservation')]\n",
    "    r.cooking_duration = AYT.time_duration(0, int(ut.getXMLelem(recipe, 'cooking_duration')),0)\n",
    "    r.milk_ml = float(ut.getXMLelem(recipe, 'milk'))\n",
    "    r.eggs = int(ut.getXMLelem(recipe, 'eggs'))\n",
    "    r.flour_g = float(ut.getXMLelem(recipe, 'flour'))\n",
    "    recipes.append(r)"
   ]
  },
  {
   "cell_type": "code",
   "execution_count": 12,
   "metadata": {},
   "outputs": [
    {
     "name": "stdout",
     "output_type": "stream",
     "text": [
      "recipe_1\n",
      "recipe_2\n",
      "recipe_3\n",
      "recipe_4\n",
      "recipe_5\n",
      "recipe_6\n"
     ]
    }
   ],
   "source": [
    "for r in recipes:\n",
    "    print r"
   ]
  },
  {
   "cell_type": "markdown",
   "metadata": {},
   "source": [
    "check how many common ingredients there are between the first two recipes"
   ]
  },
  {
   "cell_type": "code",
   "execution_count": 13,
   "metadata": {},
   "outputs": [
    {
     "data": {
      "text/plain": [
       "3"
      ]
     },
     "execution_count": 13,
     "metadata": {},
     "output_type": "execute_result"
    }
   ],
   "source": [
    "AYT.Recipe.numCommonIngredients(recipes[0], recipes[1])"
   ]
  },
  {
   "cell_type": "markdown",
   "metadata": {},
   "source": [
    "does the first recipe takes longer to cook than the second one?"
   ]
  },
  {
   "cell_type": "code",
   "execution_count": 14,
   "metadata": {},
   "outputs": [
    {
     "data": {
      "text/plain": [
       "False"
      ]
     },
     "execution_count": 14,
     "metadata": {},
     "output_type": "execute_result"
    }
   ],
   "source": [
    "recipes[0].cooksSlowerThan(recipes[1])"
   ]
  },
  {
   "cell_type": "markdown",
   "metadata": {},
   "source": [
    "## XLS"
   ]
  },
  {
   "cell_type": "markdown",
   "metadata": {},
   "source": [
    "In an Excel file we can find all data corresponding to the employees (cooks and waiters)"
   ]
  },
  {
   "cell_type": "code",
   "execution_count": 15,
   "metadata": {},
   "outputs": [],
   "source": [
    "cooks, waiters, employees = [], [], []"
   ]
  },
  {
   "cell_type": "markdown",
   "metadata": {},
   "source": [
    "read the employee file Excel with Pandas functions"
   ]
  },
  {
   "cell_type": "code",
   "execution_count": 16,
   "metadata": {},
   "outputs": [],
   "source": [
    "df_empl = pd.read_excel('Exercise_Solved/data/employees.xlsx')"
   ]
  },
  {
   "cell_type": "code",
   "execution_count": 17,
   "metadata": {},
   "outputs": [
    {
     "data": {
      "text/html": [
       "<div>\n",
       "<style scoped>\n",
       "    .dataframe tbody tr th:only-of-type {\n",
       "        vertical-align: middle;\n",
       "    }\n",
       "\n",
       "    .dataframe tbody tr th {\n",
       "        vertical-align: top;\n",
       "    }\n",
       "\n",
       "    .dataframe thead th {\n",
       "        text-align: right;\n",
       "    }\n",
       "</style>\n",
       "<table border=\"1\" class=\"dataframe\">\n",
       "  <thead>\n",
       "    <tr style=\"text-align: right;\">\n",
       "      <th></th>\n",
       "      <th>Name</th>\n",
       "      <th>Role</th>\n",
       "      <th>Time per Day</th>\n",
       "    </tr>\n",
       "  </thead>\n",
       "  <tbody>\n",
       "    <tr>\n",
       "      <th>0</th>\n",
       "      <td>tommy</td>\n",
       "      <td>cook</td>\n",
       "      <td>8</td>\n",
       "    </tr>\n",
       "    <tr>\n",
       "      <th>1</th>\n",
       "      <td>anna</td>\n",
       "      <td>waiter</td>\n",
       "      <td>6</td>\n",
       "    </tr>\n",
       "    <tr>\n",
       "      <th>2</th>\n",
       "      <td>marty</td>\n",
       "      <td>waiter</td>\n",
       "      <td>4</td>\n",
       "    </tr>\n",
       "    <tr>\n",
       "      <th>3</th>\n",
       "      <td>lavi</td>\n",
       "      <td>cook</td>\n",
       "      <td>6</td>\n",
       "    </tr>\n",
       "    <tr>\n",
       "      <th>4</th>\n",
       "      <td>gasta</td>\n",
       "      <td>NaN</td>\n",
       "      <td>1</td>\n",
       "    </tr>\n",
       "    <tr>\n",
       "      <th>5</th>\n",
       "      <td>rosario</td>\n",
       "      <td>cook</td>\n",
       "      <td>7</td>\n",
       "    </tr>\n",
       "    <tr>\n",
       "      <th>6</th>\n",
       "      <td>veronica</td>\n",
       "      <td>waiter</td>\n",
       "      <td>5</td>\n",
       "    </tr>\n",
       "  </tbody>\n",
       "</table>\n",
       "</div>"
      ],
      "text/plain": [
       "       Name    Role  Time per Day\n",
       "0     tommy    cook             8\n",
       "1      anna  waiter             6\n",
       "2     marty  waiter             4\n",
       "3      lavi    cook             6\n",
       "4     gasta     NaN             1\n",
       "5   rosario    cook             7\n",
       "6  veronica  waiter             5"
      ]
     },
     "execution_count": 17,
     "metadata": {},
     "output_type": "execute_result"
    }
   ],
   "source": [
    "df_empl"
   ]
  },
  {
   "cell_type": "markdown",
   "metadata": {},
   "source": [
    "drop who does not have a role, so he will not work **;p**"
   ]
  },
  {
   "cell_type": "code",
   "execution_count": 18,
   "metadata": {},
   "outputs": [],
   "source": [
    "df_empl.dropna(inplace=True)"
   ]
  },
  {
   "cell_type": "markdown",
   "metadata": {},
   "source": [
    "create employees by iterating on dataframe rows"
   ]
  },
  {
   "cell_type": "code",
   "execution_count": 19,
   "metadata": {},
   "outputs": [],
   "source": [
    "for idx, data in df_empl.iterrows():\n",
    "    if data.Role == 'cook':\n",
    "        c = AYT.Cook.create(str(data.Name))\n",
    "        c.time_per_day = AYT.time_duration(data['Time per Day'], 0, 0)\n",
    "        cooks.append(c)\n",
    "    else:\n",
    "        w = AYT.Waiter.create(str(data.Name))\n",
    "        w.time_per_day = AYT.time_duration(data['Time per Day'], 0, 0)\n",
    "        waiters.append(w)"
   ]
  },
  {
   "cell_type": "code",
   "execution_count": 20,
   "metadata": {},
   "outputs": [],
   "source": [
    "employees = cooks + waiters"
   ]
  },
  {
   "cell_type": "code",
   "execution_count": 21,
   "metadata": {},
   "outputs": [
    {
     "name": "stdout",
     "output_type": "stream",
     "text": [
      "My name is tommy, and I am a cook! Today I work 08:00:00 hours\n",
      "My name is lavi, and I am a cook! Today I work 06:00:00 hours\n",
      "My name is rosario, and I am a cook! Today I work 07:00:00 hours\n",
      "My name is anna, and I am a Waiter! Today I work 06:00:00 hours\n",
      "My name is marty, and I am a Waiter! Today I work 04:00:00 hours\n",
      "My name is veronica, and I am a Waiter! Today I work 05:00:00 hours\n"
     ]
    }
   ],
   "source": [
    "for e in employees:\n",
    "    print 'My name is {}, and {} Today I work {} hours'.format(e.name, e.whatDoIDo(), e.time_per_day)"
   ]
  },
  {
   "cell_type": "markdown",
   "metadata": {},
   "source": [
    "## CSV"
   ]
  },
  {
   "cell_type": "markdown",
   "metadata": {},
   "source": [
    "now we want to assign to each cook the recipes he knows. They are stored in a csv file"
   ]
  },
  {
   "cell_type": "code",
   "execution_count": 22,
   "metadata": {},
   "outputs": [],
   "source": [
    "recipes_cooks = []"
   ]
  },
  {
   "cell_type": "markdown",
   "metadata": {},
   "source": [
    "read data with csv package"
   ]
  },
  {
   "cell_type": "code",
   "execution_count": 23,
   "metadata": {},
   "outputs": [],
   "source": [
    "with codecs.open('Exercise_Solved/data/recipes_of_cooks.csv', 'rb', 'utf-16') as f:\n",
    "    reader = csv.reader(f)\n",
    "    for row in reader:\n",
    "        recipes_cooks.append(row)"
   ]
  },
  {
   "cell_type": "markdown",
   "metadata": {},
   "source": [
    "*Hint*: you might have encoding issues...try `codecs.open(filename, 'rb', 'utf-16')` and you're good to go!"
   ]
  },
  {
   "cell_type": "code",
   "execution_count": 24,
   "metadata": {},
   "outputs": [
    {
     "data": {
      "text/plain": [
       "[['Cook',\n",
       "  'Recipe_1',\n",
       "  'Recipe_2',\n",
       "  'Recipe_3',\n",
       "  'Recipe_4',\n",
       "  'Recipe_5',\n",
       "  'Recipe_6'],\n",
       " ['tommy', '1', '0', '1', '1', '0', '0'],\n",
       " ['rosario', '0', '1', '1', '0', '1', '1'],\n",
       " ['lavi', '0', '1', '0', '1', '0', '1']]"
      ]
     },
     "execution_count": 24,
     "metadata": {},
     "output_type": "execute_result"
    }
   ],
   "source": [
    "recipes_cooks"
   ]
  },
  {
   "cell_type": "markdown",
   "metadata": {},
   "source": [
    "read the same csv file with pandas and make *Cook* as the index column"
   ]
  },
  {
   "cell_type": "code",
   "execution_count": 25,
   "metadata": {},
   "outputs": [],
   "source": [
    "recipes_cooks = pd.read_csv(codecs.open('Exercise_Solved/data/recipes_of_cooks.csv', 'rb', 'utf-16'), index_col=['Cook'])"
   ]
  },
  {
   "cell_type": "code",
   "execution_count": 26,
   "metadata": {},
   "outputs": [
    {
     "data": {
      "text/html": [
       "<div>\n",
       "<style scoped>\n",
       "    .dataframe tbody tr th:only-of-type {\n",
       "        vertical-align: middle;\n",
       "    }\n",
       "\n",
       "    .dataframe tbody tr th {\n",
       "        vertical-align: top;\n",
       "    }\n",
       "\n",
       "    .dataframe thead th {\n",
       "        text-align: right;\n",
       "    }\n",
       "</style>\n",
       "<table border=\"1\" class=\"dataframe\">\n",
       "  <thead>\n",
       "    <tr style=\"text-align: right;\">\n",
       "      <th></th>\n",
       "      <th>Recipe_1</th>\n",
       "      <th>Recipe_2</th>\n",
       "      <th>Recipe_3</th>\n",
       "      <th>Recipe_4</th>\n",
       "      <th>Recipe_5</th>\n",
       "      <th>Recipe_6</th>\n",
       "    </tr>\n",
       "    <tr>\n",
       "      <th>Cook</th>\n",
       "      <th></th>\n",
       "      <th></th>\n",
       "      <th></th>\n",
       "      <th></th>\n",
       "      <th></th>\n",
       "      <th></th>\n",
       "    </tr>\n",
       "  </thead>\n",
       "  <tbody>\n",
       "    <tr>\n",
       "      <th>tommy</th>\n",
       "      <td>1</td>\n",
       "      <td>0</td>\n",
       "      <td>1</td>\n",
       "      <td>1</td>\n",
       "      <td>0</td>\n",
       "      <td>0</td>\n",
       "    </tr>\n",
       "    <tr>\n",
       "      <th>rosario</th>\n",
       "      <td>0</td>\n",
       "      <td>1</td>\n",
       "      <td>1</td>\n",
       "      <td>0</td>\n",
       "      <td>1</td>\n",
       "      <td>1</td>\n",
       "    </tr>\n",
       "    <tr>\n",
       "      <th>lavi</th>\n",
       "      <td>0</td>\n",
       "      <td>1</td>\n",
       "      <td>0</td>\n",
       "      <td>1</td>\n",
       "      <td>0</td>\n",
       "      <td>1</td>\n",
       "    </tr>\n",
       "  </tbody>\n",
       "</table>\n",
       "</div>"
      ],
      "text/plain": [
       "         Recipe_1  Recipe_2  Recipe_3  Recipe_4  Recipe_5  Recipe_6\n",
       "Cook                                                               \n",
       "tommy           1         0         1         1         0         0\n",
       "rosario         0         1         1         0         1         1\n",
       "lavi            0         1         0         1         0         1"
      ]
     },
     "execution_count": 26,
     "metadata": {},
     "output_type": "execute_result"
    }
   ],
   "source": [
    "recipes_cooks"
   ]
  },
  {
   "cell_type": "markdown",
   "metadata": {},
   "source": [
    "compute for each cook how many recipes he/she knows (use apply function of dataframe)"
   ]
  },
  {
   "cell_type": "code",
   "execution_count": 27,
   "metadata": {},
   "outputs": [
    {
     "data": {
      "text/plain": [
       "Cook\n",
       "tommy      3\n",
       "rosario    4\n",
       "lavi       3\n",
       "dtype: int64"
      ]
     },
     "execution_count": 27,
     "metadata": {},
     "output_type": "execute_result"
    }
   ],
   "source": [
    "recipes_cooks.apply(sum, axis=1)"
   ]
  },
  {
   "cell_type": "markdown",
   "metadata": {},
   "source": [
    "compute for each recipe how many cooks know it (use apply function of dataframe)"
   ]
  },
  {
   "cell_type": "code",
   "execution_count": 28,
   "metadata": {},
   "outputs": [
    {
     "data": {
      "text/plain": [
       "Recipe_1    1\n",
       "Recipe_2    2\n",
       "Recipe_3    2\n",
       "Recipe_4    2\n",
       "Recipe_5    1\n",
       "Recipe_6    2\n",
       "dtype: int64"
      ]
     },
     "execution_count": 28,
     "metadata": {},
     "output_type": "execute_result"
    }
   ],
   "source": [
    "recipes_cooks.apply(sum, axis=0)"
   ]
  },
  {
   "cell_type": "markdown",
   "metadata": {},
   "source": [
    "assign to each cook in employees the recipes he knows (use *next* to search by condition). `'recipe_{}'.format()` can be useful to find the recipe by its name"
   ]
  },
  {
   "cell_type": "code",
   "execution_count": 29,
   "metadata": {},
   "outputs": [],
   "source": [
    "for name, recipes_data in recipes_cooks.iterrows():\n",
    "    cook = next(c for c in employees if c.name == name)\n",
    "    known_recipes = recipes_data.tolist()\n",
    "    for i in range(len(known_recipes)):\n",
    "        if known_recipes[i] == 1:\n",
    "            r = next(rec for rec in recipes if rec.name == 'recipe_{}'.format(i+1))\n",
    "            cook.known_recipes.append(r)"
   ]
  },
  {
   "cell_type": "markdown",
   "metadata": {},
   "source": [
    "create the list of *cooks* by removing the waiters from the employees"
   ]
  },
  {
   "cell_type": "code",
   "execution_count": 30,
   "metadata": {},
   "outputs": [],
   "source": [
    "cooks2 = list(set(employees) - set(waiters))"
   ]
  },
  {
   "cell_type": "markdown",
   "metadata": {},
   "source": [
    "for the next task you may find useful *join()* and *map* python functions"
   ]
  },
  {
   "cell_type": "code",
   "execution_count": 31,
   "metadata": {},
   "outputs": [
    {
     "name": "stdout",
     "output_type": "stream",
     "text": [
      "tommy can cook: recipe_1,recipe_3,recipe_4\n",
      "rosario can cook: recipe_2,recipe_3,recipe_5,recipe_6\n",
      "lavi can cook: recipe_2,recipe_4,recipe_6\n"
     ]
    }
   ],
   "source": [
    "for c in cooks2:\n",
    "    print '{} can cook: {}'.format(c.name, ','.join(map(str, c.known_recipes)))"
   ]
  },
  {
   "cell_type": "markdown",
   "metadata": {},
   "source": [
    "## JSON"
   ]
  },
  {
   "cell_type": "markdown",
   "metadata": {},
   "source": [
    "We want to collect data about some restaurants in Padova area (the best I know!). They are stored in a json file. Besides the restaurants, we want to save also a list of coordinates for each restaurant that will represent a graph"
   ]
  },
  {
   "cell_type": "code",
   "execution_count": 32,
   "metadata": {},
   "outputs": [],
   "source": [
    "restaurants = []\n",
    "graph = []"
   ]
  },
  {
   "cell_type": "code",
   "execution_count": 33,
   "metadata": {},
   "outputs": [],
   "source": [
    "input_json = json.load(open('Exercise_Solved/data/restaurants.json'))"
   ]
  },
  {
   "cell_type": "markdown",
   "metadata": {},
   "source": [
    "create restaurants and coordinates, for the latter you may take advantage of the `make_tuple()` python function"
   ]
  },
  {
   "cell_type": "code",
   "execution_count": 34,
   "metadata": {},
   "outputs": [],
   "source": [
    "for k, v in input_json['restaurants'].iteritems():\n",
    "    R = AYT.Restaurant(str(k))\n",
    "    o_time = dt.datetime.strptime(v['open'], '%H:%M')\n",
    "    c_time = dt.datetime.strptime(v['close'], '%H:%M')\n",
    "    opening = AYT.time(date, AYT.time_duration(o_time.hour, o_time.minute, 0))\n",
    "    closing = AYT.time(date, AYT.time_duration(c_time.hour, c_time.minute, 0))\n",
    "    R.opening_period = AYT.time_period(opening, closing)\n",
    "    restaurants.append(R)\n",
    "    coord = make_tuple(v['position'])\n",
    "    graph.append(coord)"
   ]
  },
  {
   "cell_type": "code",
   "execution_count": 35,
   "metadata": {},
   "outputs": [
    {
     "name": "stdout",
     "output_type": "stream",
     "text": [
      "Da Bepi ae scoe\n",
      "Dalla Ofelia\n",
      "Il Falco d'Oro\n",
      "Rosso Pomodoro\n",
      "Kopfler\n",
      "La Rosa dei Venti\n"
     ]
    }
   ],
   "source": [
    "for R in restaurants:\n",
    "    print R.name"
   ]
  },
  {
   "cell_type": "markdown",
   "metadata": {},
   "source": [
    "Assign employees to restaurants and viceversa"
   ]
  },
  {
   "cell_type": "code",
   "execution_count": 36,
   "metadata": {},
   "outputs": [],
   "source": [
    "for i in range(len(cooks)):\n",
    "    cooks[i].restaurant = restaurants[i]\n",
    "    waiters[i].restaurant = restaurants[i]\n",
    "    restaurants[i].employees.append(cooks[i])\n",
    "    restaurants[i].employees.append(waiters[i])"
   ]
  },
  {
   "cell_type": "code",
   "execution_count": 37,
   "metadata": {},
   "outputs": [
    {
     "name": "stdout",
     "output_type": "stream",
     "text": [
      "tommy works Da Bepi ae scoe\n",
      "anna works Da Bepi ae scoe\n",
      "lavi works Dalla Ofelia\n",
      "marty works Dalla Ofelia\n",
      "rosario works Il Falco d'Oro\n",
      "veronica works Il Falco d'Oro\n"
     ]
    }
   ],
   "source": [
    "for i in range(len(cooks)):\n",
    "    print cooks[i].name, 'works', cooks[i].restaurant.name\n",
    "    print waiters[i].name, 'works', waiters[i].restaurant.name"
   ]
  },
  {
   "cell_type": "markdown",
   "metadata": {},
   "source": [
    "let's see our graph (it is a grid)"
   ]
  },
  {
   "cell_type": "code",
   "execution_count": 38,
   "metadata": {},
   "outputs": [],
   "source": [
    "graph.sort()"
   ]
  },
  {
   "cell_type": "code",
   "execution_count": 39,
   "metadata": {},
   "outputs": [
    {
     "data": {
      "text/plain": [
       "[(0, 0), (0, 1), (0, 2), (1, 0), (1, 1), (1, 2)]"
      ]
     },
     "execution_count": 39,
     "metadata": {},
     "output_type": "execute_result"
    }
   ],
   "source": [
    "graph"
   ]
  },
  {
   "cell_type": "markdown",
   "metadata": {},
   "source": [
    "## Customers"
   ]
  },
  {
   "cell_type": "markdown",
   "metadata": {},
   "source": [
    "Customers arrive according to a Poisson Process of rate 30. We consider the first 10 clients arriving from 12:00 at the first restaurant"
   ]
  },
  {
   "cell_type": "code",
   "execution_count": 40,
   "metadata": {},
   "outputs": [],
   "source": [
    "arrival_times = map( lambda x: AYT.time(date, AYT.time_duration(12,x,0)), np.cumsum(np.random.poisson(30, 10)))"
   ]
  },
  {
   "cell_type": "code",
   "execution_count": 41,
   "metadata": {},
   "outputs": [
    {
     "name": "stdout",
     "output_type": "stream",
     "text": [
      "2019-Mar-29 12:38:00\n",
      "2019-Mar-29 13:00:00\n",
      "2019-Mar-29 13:32:00\n",
      "2019-Mar-29 14:04:00\n",
      "2019-Mar-29 14:32:00\n",
      "2019-Mar-29 15:02:00\n",
      "2019-Mar-29 15:34:00\n",
      "2019-Mar-29 15:57:00\n",
      "2019-Mar-29 16:34:00\n",
      "2019-Mar-29 17:00:00\n"
     ]
    }
   ],
   "source": [
    "for a in arrival_times:\n",
    "    print a"
   ]
  },
  {
   "cell_type": "markdown",
   "metadata": {},
   "source": [
    "create the last customer arriving at the restaurant, let's say he wants to eat the first recipe "
   ]
  },
  {
   "cell_type": "code",
   "execution_count": 42,
   "metadata": {},
   "outputs": [],
   "source": [
    "c = AYT.Customer()\n",
    "c.arrival_time = arrival_times[-1]\n",
    "c.desired_meal = recipes[0]"
   ]
  },
  {
   "cell_type": "markdown",
   "metadata": {},
   "source": [
    "check if there is at least one cook at the restaurant when the customer gets in that can cook that recipe"
   ]
  },
  {
   "cell_type": "code",
   "execution_count": 43,
   "metadata": {},
   "outputs": [],
   "source": [
    "cooks_first_restaurants = [ck for ck in cooks if ck.restaurant.name == restaurants[0].name]\n",
    "cooks_available = [ck for ck in cooks_first_restaurants if restaurants[0].opening_period.begin() + ck.time_per_day > c.arrival_time]"
   ]
  },
  {
   "cell_type": "code",
   "execution_count": 44,
   "metadata": {},
   "outputs": [],
   "source": [
    "cooks_for_recipe = [ck for ck in cooks_available if c.desired_meal in ck.known_recipes]"
   ]
  },
  {
   "cell_type": "code",
   "execution_count": 45,
   "metadata": {},
   "outputs": [
    {
     "name": "stdout",
     "output_type": "stream",
     "text": [
      "customer arrives at 17:00:00. He wants recipe_1. Cook tommy works till 20:00:00 and can cook recipe_1,recipe_3,recipe_4\n"
     ]
    }
   ],
   "source": [
    "for ck in cooks_for_recipe:\n",
    "    print 'customer arrives at {}. He wants {}. Cook {} works till {} and can cook {}'.format(c.arrival_time.timeOfDay(),\n",
    "                                                                           c.desired_meal,\n",
    "                                                                           ck.name,\n",
    "                                                                           (ck.restaurant.opening_period.begin() + ck.time_per_day).timeOfDay(),\n",
    "                                                                           ','.join(map(str,ck.known_recipes)))"
   ]
  },
  {
   "cell_type": "markdown",
   "metadata": {},
   "source": [
    "## TSP"
   ]
  },
  {
   "cell_type": "markdown",
   "metadata": {},
   "source": [
    "Anna is a very glutton girl, and wants to eat at every restaurant we have! Let's say they all keep open for Anna (or else she would freak out). Anna is also a very lazy girl, and she does not want to do much effort walking through the city, so let's suggest her a short tour by solving a **Traveling Salesman Problem** on our grid graph!"
   ]
  },
  {
   "cell_type": "markdown",
   "metadata": {},
   "source": [
    "cast the graph to a special Python type, optimized for matrix computations"
   ]
  },
  {
   "cell_type": "code",
   "execution_count": 46,
   "metadata": {},
   "outputs": [],
   "source": [
    "grid = np.asarray(graph)"
   ]
  },
  {
   "cell_type": "markdown",
   "metadata": {},
   "source": [
    "some python magic for creating a distance matrix computed with *Manhattan distance*"
   ]
  },
  {
   "cell_type": "code",
   "execution_count": 47,
   "metadata": {},
   "outputs": [],
   "source": [
    "M = np.asmatrix(cdist(grid,grid, 'cityblock'))"
   ]
  },
  {
   "cell_type": "code",
   "execution_count": 48,
   "metadata": {},
   "outputs": [
    {
     "name": "stdout",
     "output_type": "stream",
     "text": [
      "[[0. 1. 2. 1. 2. 3.]\n",
      " [1. 0. 1. 2. 1. 2.]\n",
      " [2. 1. 0. 3. 2. 1.]\n",
      " [1. 2. 3. 0. 1. 2.]\n",
      " [2. 1. 2. 1. 0. 1.]\n",
      " [3. 2. 1. 2. 1. 0.]]\n"
     ]
    }
   ],
   "source": [
    "print M"
   ]
  },
  {
   "cell_type": "markdown",
   "metadata": {},
   "source": [
    "create an instance of our network class"
   ]
  },
  {
   "cell_type": "code",
   "execution_count": 49,
   "metadata": {},
   "outputs": [],
   "source": [
    "network = AYT.Network(len(grid))"
   ]
  },
  {
   "cell_type": "code",
   "execution_count": 50,
   "metadata": {},
   "outputs": [],
   "source": [
    "for i in range(len(network)):\n",
    "    network[i] = restaurants[i]"
   ]
  },
  {
   "cell_type": "code",
   "execution_count": 51,
   "metadata": {},
   "outputs": [],
   "source": [
    "for i,j in product(range(len(network)),range(len(network))):\n",
    "    if i != j:\n",
    "        t = AYT.Trip(M[i,j], AYT.time_duration(0, int(M[i,j]), 0))\n",
    "        network.pushArc(i,j,t)"
   ]
  },
  {
   "cell_type": "markdown",
   "metadata": {},
   "source": [
    "create an instance of *Networkx* graph class"
   ]
  },
  {
   "cell_type": "code",
   "execution_count": 52,
   "metadata": {},
   "outputs": [],
   "source": [
    "G = nx.from_numpy_matrix(M)"
   ]
  },
  {
   "cell_type": "markdown",
   "metadata": {},
   "source": [
    "let's solve the problem with our C++ function!"
   ]
  },
  {
   "cell_type": "code",
   "execution_count": null,
   "metadata": {},
   "outputs": [],
   "source": [
    "route = AYT.TSP(network)"
   ]
  },
  {
   "cell_type": "code",
   "execution_count": null,
   "metadata": {},
   "outputs": [],
   "source": [
    "route"
   ]
  },
  {
   "cell_type": "markdown",
   "metadata": {},
   "source": [
    "compute the length of the path"
   ]
  },
  {
   "cell_type": "code",
   "execution_count": null,
   "metadata": {},
   "outputs": [],
   "source": [
    "sum(M[route[i],route[i+1]] for i in range(len(route)-1))"
   ]
  },
  {
   "cell_type": "markdown",
   "metadata": {},
   "source": [
    "build a list of the arcs of the route, that is each pair of consecutive nodes"
   ]
  },
  {
   "cell_type": "code",
   "execution_count": null,
   "metadata": {},
   "outputs": [],
   "source": [
    "route_edges = zip(route[:-1], route[1:])"
   ]
  },
  {
   "cell_type": "code",
   "execution_count": null,
   "metadata": {},
   "outputs": [],
   "source": [
    "route_edges"
   ]
  },
  {
   "cell_type": "markdown",
   "metadata": {},
   "source": [
    "finally, let's plot the solution found"
   ]
  },
  {
   "cell_type": "code",
   "execution_count": null,
   "metadata": {},
   "outputs": [],
   "source": [
    "pos = nx.circular_layout(G)  # positions for all nodes\n",
    "\n",
    "nx.draw(G, pos, node_color='orange', with_labels=True)\n",
    "\n",
    "nx.draw_networkx_edges(G, pos, edgelist=route_edges, width=6, alpha=0.5, edge_color='b')\n",
    "\n",
    "plt.show()"
   ]
  },
  {
   "cell_type": "code",
   "execution_count": null,
   "metadata": {},
   "outputs": [],
   "source": []
  }
 ],
 "metadata": {
  "kernelspec": {
   "display_name": "Python 2",
   "language": "python",
   "name": "python2"
  },
  "language_info": {
   "codemirror_mode": {
    "name": "ipython",
    "version": 2
   },
   "file_extension": ".py",
   "mimetype": "text/x-python",
   "name": "python",
   "nbconvert_exporter": "python",
   "pygments_lexer": "ipython2",
   "version": "2.7.15rc1"
  }
 },
 "nbformat": 4,
 "nbformat_minor": 2
}
